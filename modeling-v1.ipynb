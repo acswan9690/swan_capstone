{
 "cells": [
  {
   "cell_type": "code",
   "execution_count": 1,
   "id": "8336a13e-91f7-4c92-b4a8-1949fd0286f0",
   "metadata": {},
   "outputs": [],
   "source": [
    "import numpy as np\n",
    "import pandas as pd\n",
    "import matplotlib.pyplot as plt\n",
    "import seaborn as sns\n",
    "\n",
    "from sklearn.neighbors import KNeighborsClassifier\n",
    "from sklearn.ensemble import RandomForestClassifier\n",
    "from sklearn.model_selection import train_test_split, cross_val_score\n",
    "\n",
    "import tensorflow as tf\n",
    "from tensorflow.keras.models import Sequential\n",
    "from tensorflow.keras.layers import Dense\n",
    "from tensorflow.keras.layers import Dropout\n",
    "from tensorflow.keras.callbacks import EarlyStopping\n",
    "from keras.wrappers.scikit_learn import KerasClassifier\n",
    "from sklearn.model_selection import KFold"
   ]
  },
  {
   "cell_type": "code",
   "execution_count": 2,
   "id": "d76d31e8-9105-4e10-9c70-6e82cc1a8e7a",
   "metadata": {},
   "outputs": [
    {
     "data": {
      "text/html": [
       "<div>\n",
       "<style scoped>\n",
       "    .dataframe tbody tr th:only-of-type {\n",
       "        vertical-align: middle;\n",
       "    }\n",
       "\n",
       "    .dataframe tbody tr th {\n",
       "        vertical-align: top;\n",
       "    }\n",
       "\n",
       "    .dataframe thead th {\n",
       "        text-align: right;\n",
       "    }\n",
       "</style>\n",
       "<table border=\"1\" class=\"dataframe\">\n",
       "  <thead>\n",
       "    <tr style=\"text-align: right;\">\n",
       "      <th></th>\n",
       "      <th>vegetable</th>\n",
       "      <th>flavor_family</th>\n",
       "      <th>texture</th>\n",
       "      <th>prepared</th>\n",
       "    </tr>\n",
       "  </thead>\n",
       "  <tbody>\n",
       "    <tr>\n",
       "      <th>0</th>\n",
       "      <td>artichokes</td>\n",
       "      <td>mild/neutral</td>\n",
       "      <td>soft-chewy</td>\n",
       "      <td>roast</td>\n",
       "    </tr>\n",
       "    <tr>\n",
       "      <th>1</th>\n",
       "      <td>artichokes</td>\n",
       "      <td>mild/neutral</td>\n",
       "      <td>soft-chewy</td>\n",
       "      <td>steam</td>\n",
       "    </tr>\n",
       "    <tr>\n",
       "      <th>2</th>\n",
       "      <td>arugula</td>\n",
       "      <td>spicy</td>\n",
       "      <td>soft-chewy</td>\n",
       "      <td>salad</td>\n",
       "    </tr>\n",
       "    <tr>\n",
       "      <th>3</th>\n",
       "      <td>arugula</td>\n",
       "      <td>spicy</td>\n",
       "      <td>soft-chewy</td>\n",
       "      <td>salad</td>\n",
       "    </tr>\n",
       "    <tr>\n",
       "      <th>4</th>\n",
       "      <td>asparagus</td>\n",
       "      <td>grassy</td>\n",
       "      <td>crunchy</td>\n",
       "      <td>salad</td>\n",
       "    </tr>\n",
       "  </tbody>\n",
       "</table>\n",
       "</div>"
      ],
      "text/plain": [
       "    vegetable flavor_family     texture prepared\n",
       "0  artichokes  mild/neutral  soft-chewy    roast\n",
       "1  artichokes  mild/neutral  soft-chewy    steam\n",
       "2     arugula         spicy  soft-chewy    salad\n",
       "3     arugula         spicy  soft-chewy    salad\n",
       "4   asparagus        grassy     crunchy    salad"
      ]
     },
     "execution_count": 2,
     "metadata": {},
     "output_type": "execute_result"
    }
   ],
   "source": [
    "df = pd.read_csv('./data/veg_model_data.csv')\n",
    "df.head()"
   ]
  },
  {
   "cell_type": "code",
   "execution_count": 3,
   "id": "ef7af1c7-db71-4962-a497-acbe574a8835",
   "metadata": {},
   "outputs": [],
   "source": [
    "df_dummy = pd.get_dummies(df, columns=df.columns[1:], drop_first=True)"
   ]
  },
  {
   "cell_type": "code",
   "execution_count": 4,
   "id": "422b1976-ec50-4a66-852a-9b4a98cfebeb",
   "metadata": {},
   "outputs": [],
   "source": [
    "X = df_dummy.drop(columns='vegetable')\n",
    "y = df_dummy['vegetable']"
   ]
  },
  {
   "cell_type": "code",
   "execution_count": 5,
   "id": "97f5d65d-eb72-4f04-ab7f-7c213c9996cf",
   "metadata": {},
   "outputs": [],
   "source": [
    "X_train, X_test, y_train, y_test = train_test_split(X, y, random_state=42)"
   ]
  },
  {
   "cell_type": "code",
   "execution_count": 6,
   "id": "90ae52aa-5210-4420-919a-e8ec456df6c3",
   "metadata": {},
   "outputs": [],
   "source": [
    "rfc = RandomForestClassifier()"
   ]
  },
  {
   "cell_type": "code",
   "execution_count": 7,
   "id": "00284133-d602-48c5-8a13-5eecccab1dde",
   "metadata": {},
   "outputs": [
    {
     "data": {
      "text/plain": [
       "RandomForestClassifier()"
      ]
     },
     "execution_count": 7,
     "metadata": {},
     "output_type": "execute_result"
    }
   ],
   "source": [
    "rfc.fit(X_train, y_train)"
   ]
  },
  {
   "cell_type": "code",
   "execution_count": 8,
   "id": "1222913a-5bfc-4def-b100-61e163d6fd96",
   "metadata": {},
   "outputs": [
    {
     "data": {
      "text/plain": [
       "0.09090909090909091"
      ]
     },
     "execution_count": 8,
     "metadata": {},
     "output_type": "execute_result"
    }
   ],
   "source": [
    "rfc.score(X_test, y_test)"
   ]
  },
  {
   "cell_type": "code",
   "execution_count": 9,
   "id": "83a9d08c-625d-46d4-b235-b95ffc9f9659",
   "metadata": {},
   "outputs": [],
   "source": [
    "knn = KNeighborsClassifier(n_neighbors=8)"
   ]
  },
  {
   "cell_type": "code",
   "execution_count": 10,
   "id": "6f46ee0b-e2af-41ec-8fa2-0f98a906c582",
   "metadata": {},
   "outputs": [
    {
     "data": {
      "text/plain": [
       "KNeighborsClassifier(n_neighbors=8)"
      ]
     },
     "execution_count": 10,
     "metadata": {},
     "output_type": "execute_result"
    }
   ],
   "source": [
    "knn.fit(X_train, y_train)"
   ]
  },
  {
   "cell_type": "code",
   "execution_count": 11,
   "id": "6e2b2e3a-1bf4-4c7e-8cbf-94371e0cb50b",
   "metadata": {},
   "outputs": [
    {
     "data": {
      "text/plain": [
       "0.09090909090909091"
      ]
     },
     "execution_count": 11,
     "metadata": {},
     "output_type": "execute_result"
    }
   ],
   "source": [
    "knn.score(X_test, y_test)"
   ]
  },
  {
   "cell_type": "code",
   "execution_count": 12,
   "id": "4dea4adb-9cfd-4f4c-ad85-21234f9ffc33",
   "metadata": {},
   "outputs": [],
   "source": [
    "import category_encoders as ce"
   ]
  },
  {
   "cell_type": "code",
   "execution_count": 13,
   "id": "408044b1-9dc9-4dfd-afcc-558adc0c4ed6",
   "metadata": {},
   "outputs": [
    {
     "name": "stderr",
     "output_type": "stream",
     "text": [
      "C:\\Users\\Adam\\anaconda3\\envs\\dsi\\lib\\site-packages\\category_encoders\\utils.py:21: FutureWarning: is_categorical is deprecated and will be removed in a future version.  Use is_categorical_dtype instead\n",
      "  elif pd.api.types.is_categorical(cols):\n"
     ]
    }
   ],
   "source": [
    "encoder = ce.OneHotEncoder(cols=df.columns[1:])\n",
    "df_enc = encoder.fit_transform(df)"
   ]
  },
  {
   "cell_type": "code",
   "execution_count": 14,
   "id": "58881db4-068c-4101-82f3-0c6f98d99143",
   "metadata": {},
   "outputs": [
    {
     "data": {
      "text/plain": [
       "{'artichokes': 0,\n",
       " 'arugula': 1,\n",
       " 'asparagus': 2,\n",
       " 'bush beans (green beans)': 3,\n",
       " 'pole beans(green beans)': 4,\n",
       " 'beets': 5,\n",
       " 'bok choy': 6,\n",
       " 'broccoli': 7,\n",
       " 'brussel sprouts': 8,\n",
       " 'cabbage': 9,\n",
       " 'carrots': 10,\n",
       " 'cauliflower': 11,\n",
       " 'celery': 12,\n",
       " 'chives': 13,\n",
       " 'collards': 14,\n",
       " 'corn': 15,\n",
       " 'cucumbers': 16,\n",
       " 'eggplant': 17,\n",
       " 'garlic': 18,\n",
       " 'kale': 19,\n",
       " 'leeks': 20,\n",
       " 'lettuce': 21,\n",
       " 'mustard greens': 22,\n",
       " 'onions': 23,\n",
       " 'parsnips': 24,\n",
       " 'peas': 25,\n",
       " 'peppers': 26,\n",
       " 'potatoes': 27,\n",
       " 'pumpkin': 28,\n",
       " 'radishes': 29,\n",
       " 'rhubarb': 30,\n",
       " 'rutabaga': 31,\n",
       " 'shallots': 32,\n",
       " 'spinach': 33,\n",
       " 'summer squash': 34,\n",
       " 'winter squash': 35,\n",
       " 'swiss chard': 36,\n",
       " 'tomatoes': 37,\n",
       " 'turnips': 38}"
      ]
     },
     "execution_count": 14,
     "metadata": {},
     "output_type": "execute_result"
    }
   ],
   "source": [
    "veg = ['Artichokes', 'Arugula', 'Asparagus', 'Bush beans (green beans)',\n",
    "       'Pole beans(green beans)', 'Beets', 'Bok Choy', 'Broccoli',\n",
    "       'Brussel Sprouts', 'Cabbage', 'Carrots', 'Cauliflower', 'Celery',\n",
    "       'Chives', 'Collards', 'Corn', 'Cucumbers', 'Eggplant', 'Garlic', 'Kale',\n",
    "       'Leeks', 'Lettuce', 'Mustard Greens', 'Onions', 'Parsnips', 'Peas',\n",
    "       'Peppers', 'Potatoes', 'Pumpkin', 'Radishes', 'Rhubarb', 'Rutabaga',\n",
    "       'Shallots', 'Spinach', 'Summer Squash', 'Winter Squash', 'Swiss Chard',\n",
    "       'Tomatoes', 'Turnips']\n",
    "veg_dict = {k.lower(): v for v, k in enumerate(veg)}\n",
    "veg_dict"
   ]
  },
  {
   "cell_type": "code",
   "execution_count": 15,
   "id": "97746680-e10e-4e96-a84b-e56a2924a54c",
   "metadata": {},
   "outputs": [],
   "source": [
    "df_enc['vegetable'] = df_enc['vegetable'].map(veg_dict)"
   ]
  },
  {
   "cell_type": "code",
   "execution_count": 16,
   "id": "a5b8218c-85e8-4d63-a01d-0a7e09f31ae4",
   "metadata": {},
   "outputs": [
    {
     "data": {
      "text/html": [
       "<div>\n",
       "<style scoped>\n",
       "    .dataframe tbody tr th:only-of-type {\n",
       "        vertical-align: middle;\n",
       "    }\n",
       "\n",
       "    .dataframe tbody tr th {\n",
       "        vertical-align: top;\n",
       "    }\n",
       "\n",
       "    .dataframe thead th {\n",
       "        text-align: right;\n",
       "    }\n",
       "</style>\n",
       "<table border=\"1\" class=\"dataframe\">\n",
       "  <thead>\n",
       "    <tr style=\"text-align: right;\">\n",
       "      <th></th>\n",
       "      <th>vegetable</th>\n",
       "      <th>flavor_family_1</th>\n",
       "      <th>flavor_family_2</th>\n",
       "      <th>flavor_family_3</th>\n",
       "      <th>flavor_family_4</th>\n",
       "      <th>flavor_family_5</th>\n",
       "      <th>texture_1</th>\n",
       "      <th>texture_2</th>\n",
       "      <th>texture_3</th>\n",
       "      <th>texture_4</th>\n",
       "      <th>texture_5</th>\n",
       "      <th>prepared_1</th>\n",
       "      <th>prepared_2</th>\n",
       "      <th>prepared_3</th>\n",
       "      <th>prepared_4</th>\n",
       "      <th>prepared_5</th>\n",
       "      <th>prepared_6</th>\n",
       "      <th>prepared_7</th>\n",
       "      <th>prepared_8</th>\n",
       "    </tr>\n",
       "  </thead>\n",
       "  <tbody>\n",
       "    <tr>\n",
       "      <th>0</th>\n",
       "      <td>0.0</td>\n",
       "      <td>1</td>\n",
       "      <td>0</td>\n",
       "      <td>0</td>\n",
       "      <td>0</td>\n",
       "      <td>0</td>\n",
       "      <td>1</td>\n",
       "      <td>0</td>\n",
       "      <td>0</td>\n",
       "      <td>0</td>\n",
       "      <td>0</td>\n",
       "      <td>1</td>\n",
       "      <td>0</td>\n",
       "      <td>0</td>\n",
       "      <td>0</td>\n",
       "      <td>0</td>\n",
       "      <td>0</td>\n",
       "      <td>0</td>\n",
       "      <td>0</td>\n",
       "    </tr>\n",
       "    <tr>\n",
       "      <th>1</th>\n",
       "      <td>0.0</td>\n",
       "      <td>1</td>\n",
       "      <td>0</td>\n",
       "      <td>0</td>\n",
       "      <td>0</td>\n",
       "      <td>0</td>\n",
       "      <td>1</td>\n",
       "      <td>0</td>\n",
       "      <td>0</td>\n",
       "      <td>0</td>\n",
       "      <td>0</td>\n",
       "      <td>0</td>\n",
       "      <td>1</td>\n",
       "      <td>0</td>\n",
       "      <td>0</td>\n",
       "      <td>0</td>\n",
       "      <td>0</td>\n",
       "      <td>0</td>\n",
       "      <td>0</td>\n",
       "    </tr>\n",
       "    <tr>\n",
       "      <th>2</th>\n",
       "      <td>1.0</td>\n",
       "      <td>0</td>\n",
       "      <td>1</td>\n",
       "      <td>0</td>\n",
       "      <td>0</td>\n",
       "      <td>0</td>\n",
       "      <td>1</td>\n",
       "      <td>0</td>\n",
       "      <td>0</td>\n",
       "      <td>0</td>\n",
       "      <td>0</td>\n",
       "      <td>0</td>\n",
       "      <td>0</td>\n",
       "      <td>1</td>\n",
       "      <td>0</td>\n",
       "      <td>0</td>\n",
       "      <td>0</td>\n",
       "      <td>0</td>\n",
       "      <td>0</td>\n",
       "    </tr>\n",
       "    <tr>\n",
       "      <th>3</th>\n",
       "      <td>1.0</td>\n",
       "      <td>0</td>\n",
       "      <td>1</td>\n",
       "      <td>0</td>\n",
       "      <td>0</td>\n",
       "      <td>0</td>\n",
       "      <td>1</td>\n",
       "      <td>0</td>\n",
       "      <td>0</td>\n",
       "      <td>0</td>\n",
       "      <td>0</td>\n",
       "      <td>0</td>\n",
       "      <td>0</td>\n",
       "      <td>1</td>\n",
       "      <td>0</td>\n",
       "      <td>0</td>\n",
       "      <td>0</td>\n",
       "      <td>0</td>\n",
       "      <td>0</td>\n",
       "    </tr>\n",
       "    <tr>\n",
       "      <th>4</th>\n",
       "      <td>2.0</td>\n",
       "      <td>0</td>\n",
       "      <td>0</td>\n",
       "      <td>1</td>\n",
       "      <td>0</td>\n",
       "      <td>0</td>\n",
       "      <td>0</td>\n",
       "      <td>1</td>\n",
       "      <td>0</td>\n",
       "      <td>0</td>\n",
       "      <td>0</td>\n",
       "      <td>0</td>\n",
       "      <td>0</td>\n",
       "      <td>1</td>\n",
       "      <td>0</td>\n",
       "      <td>0</td>\n",
       "      <td>0</td>\n",
       "      <td>0</td>\n",
       "      <td>0</td>\n",
       "    </tr>\n",
       "    <tr>\n",
       "      <th>...</th>\n",
       "      <td>...</td>\n",
       "      <td>...</td>\n",
       "      <td>...</td>\n",
       "      <td>...</td>\n",
       "      <td>...</td>\n",
       "      <td>...</td>\n",
       "      <td>...</td>\n",
       "      <td>...</td>\n",
       "      <td>...</td>\n",
       "      <td>...</td>\n",
       "      <td>...</td>\n",
       "      <td>...</td>\n",
       "      <td>...</td>\n",
       "      <td>...</td>\n",
       "      <td>...</td>\n",
       "      <td>...</td>\n",
       "      <td>...</td>\n",
       "      <td>...</td>\n",
       "      <td>...</td>\n",
       "    </tr>\n",
       "    <tr>\n",
       "      <th>83</th>\n",
       "      <td>38.0</td>\n",
       "      <td>0</td>\n",
       "      <td>1</td>\n",
       "      <td>0</td>\n",
       "      <td>0</td>\n",
       "      <td>0</td>\n",
       "      <td>0</td>\n",
       "      <td>0</td>\n",
       "      <td>1</td>\n",
       "      <td>0</td>\n",
       "      <td>0</td>\n",
       "      <td>0</td>\n",
       "      <td>0</td>\n",
       "      <td>0</td>\n",
       "      <td>0</td>\n",
       "      <td>0</td>\n",
       "      <td>0</td>\n",
       "      <td>0</td>\n",
       "      <td>1</td>\n",
       "    </tr>\n",
       "    <tr>\n",
       "      <th>84</th>\n",
       "      <td>18.0</td>\n",
       "      <td>0</td>\n",
       "      <td>1</td>\n",
       "      <td>0</td>\n",
       "      <td>0</td>\n",
       "      <td>0</td>\n",
       "      <td>1</td>\n",
       "      <td>0</td>\n",
       "      <td>0</td>\n",
       "      <td>0</td>\n",
       "      <td>0</td>\n",
       "      <td>1</td>\n",
       "      <td>0</td>\n",
       "      <td>0</td>\n",
       "      <td>0</td>\n",
       "      <td>0</td>\n",
       "      <td>0</td>\n",
       "      <td>0</td>\n",
       "      <td>0</td>\n",
       "    </tr>\n",
       "    <tr>\n",
       "      <th>85</th>\n",
       "      <td>18.0</td>\n",
       "      <td>0</td>\n",
       "      <td>1</td>\n",
       "      <td>0</td>\n",
       "      <td>0</td>\n",
       "      <td>0</td>\n",
       "      <td>1</td>\n",
       "      <td>0</td>\n",
       "      <td>0</td>\n",
       "      <td>0</td>\n",
       "      <td>0</td>\n",
       "      <td>0</td>\n",
       "      <td>0</td>\n",
       "      <td>0</td>\n",
       "      <td>1</td>\n",
       "      <td>0</td>\n",
       "      <td>0</td>\n",
       "      <td>0</td>\n",
       "      <td>0</td>\n",
       "    </tr>\n",
       "    <tr>\n",
       "      <th>86</th>\n",
       "      <td>21.0</td>\n",
       "      <td>1</td>\n",
       "      <td>0</td>\n",
       "      <td>0</td>\n",
       "      <td>0</td>\n",
       "      <td>0</td>\n",
       "      <td>0</td>\n",
       "      <td>0</td>\n",
       "      <td>1</td>\n",
       "      <td>0</td>\n",
       "      <td>0</td>\n",
       "      <td>0</td>\n",
       "      <td>0</td>\n",
       "      <td>1</td>\n",
       "      <td>0</td>\n",
       "      <td>0</td>\n",
       "      <td>0</td>\n",
       "      <td>0</td>\n",
       "      <td>0</td>\n",
       "    </tr>\n",
       "    <tr>\n",
       "      <th>87</th>\n",
       "      <td>21.0</td>\n",
       "      <td>1</td>\n",
       "      <td>0</td>\n",
       "      <td>0</td>\n",
       "      <td>0</td>\n",
       "      <td>0</td>\n",
       "      <td>0</td>\n",
       "      <td>0</td>\n",
       "      <td>1</td>\n",
       "      <td>0</td>\n",
       "      <td>0</td>\n",
       "      <td>0</td>\n",
       "      <td>0</td>\n",
       "      <td>1</td>\n",
       "      <td>0</td>\n",
       "      <td>0</td>\n",
       "      <td>0</td>\n",
       "      <td>0</td>\n",
       "      <td>0</td>\n",
       "    </tr>\n",
       "  </tbody>\n",
       "</table>\n",
       "<p>88 rows × 19 columns</p>\n",
       "</div>"
      ],
      "text/plain": [
       "    vegetable  flavor_family_1  flavor_family_2  flavor_family_3  \\\n",
       "0         0.0                1                0                0   \n",
       "1         0.0                1                0                0   \n",
       "2         1.0                0                1                0   \n",
       "3         1.0                0                1                0   \n",
       "4         2.0                0                0                1   \n",
       "..        ...              ...              ...              ...   \n",
       "83       38.0                0                1                0   \n",
       "84       18.0                0                1                0   \n",
       "85       18.0                0                1                0   \n",
       "86       21.0                1                0                0   \n",
       "87       21.0                1                0                0   \n",
       "\n",
       "    flavor_family_4  flavor_family_5  texture_1  texture_2  texture_3  \\\n",
       "0                 0                0          1          0          0   \n",
       "1                 0                0          1          0          0   \n",
       "2                 0                0          1          0          0   \n",
       "3                 0                0          1          0          0   \n",
       "4                 0                0          0          1          0   \n",
       "..              ...              ...        ...        ...        ...   \n",
       "83                0                0          0          0          1   \n",
       "84                0                0          1          0          0   \n",
       "85                0                0          1          0          0   \n",
       "86                0                0          0          0          1   \n",
       "87                0                0          0          0          1   \n",
       "\n",
       "    texture_4  texture_5  prepared_1  prepared_2  prepared_3  prepared_4  \\\n",
       "0           0          0           1           0           0           0   \n",
       "1           0          0           0           1           0           0   \n",
       "2           0          0           0           0           1           0   \n",
       "3           0          0           0           0           1           0   \n",
       "4           0          0           0           0           1           0   \n",
       "..        ...        ...         ...         ...         ...         ...   \n",
       "83          0          0           0           0           0           0   \n",
       "84          0          0           1           0           0           0   \n",
       "85          0          0           0           0           0           1   \n",
       "86          0          0           0           0           1           0   \n",
       "87          0          0           0           0           1           0   \n",
       "\n",
       "    prepared_5  prepared_6  prepared_7  prepared_8  \n",
       "0            0           0           0           0  \n",
       "1            0           0           0           0  \n",
       "2            0           0           0           0  \n",
       "3            0           0           0           0  \n",
       "4            0           0           0           0  \n",
       "..         ...         ...         ...         ...  \n",
       "83           0           0           0           1  \n",
       "84           0           0           0           0  \n",
       "85           0           0           0           0  \n",
       "86           0           0           0           0  \n",
       "87           0           0           0           0  \n",
       "\n",
       "[88 rows x 19 columns]"
      ]
     },
     "execution_count": 16,
     "metadata": {},
     "output_type": "execute_result"
    }
   ],
   "source": [
    "df_enc"
   ]
  },
  {
   "cell_type": "code",
   "execution_count": 17,
   "id": "51b1af84-1e88-45cc-97da-de6b64e08ade",
   "metadata": {},
   "outputs": [],
   "source": [
    "X = df_enc.drop(columns='vegetable').astype(float)\n",
    "y = df_enc['vegetable']\n",
    "X_train, X_test, y_train, y_test = train_test_split(X, y, random_state=42)"
   ]
  },
  {
   "cell_type": "code",
   "execution_count": 18,
   "id": "c362557d-0813-40c9-a74b-122979e4b4e8",
   "metadata": {},
   "outputs": [],
   "source": [
    "tf.random.set_seed(42)"
   ]
  },
  {
   "cell_type": "code",
   "execution_count": 19,
   "id": "10457287-56a3-4579-8e75-dd2f685f5a96",
   "metadata": {},
   "outputs": [],
   "source": [
    "n_input = X_train.shape[1]"
   ]
  },
  {
   "cell_type": "code",
   "execution_count": 20,
   "id": "7e0d5ee6-0c54-4339-91a3-e0fe1e723d01",
   "metadata": {},
   "outputs": [],
   "source": [
    "model = Sequential()\n",
    "model.add(Dense(15, input_shape=(n_input,), activation='relu'))\n",
    "model.add(Dense(10, activation='relu'))\n",
    "model.add(Dense(1, activation='softmax'))\n",
    "\n",
    "model.compile(loss='categorical_crossentropy', optimizer='adam', metrics=['acc'])\n",
    "\n",
    "early_stop = EarlyStopping(monitor='val_loss', patience=3, verbose=1)"
   ]
  },
  {
   "cell_type": "code",
   "execution_count": 21,
   "id": "f6b534fd-54ba-4aee-8dfa-0b7a33288277",
   "metadata": {},
   "outputs": [
    {
     "name": "stdout",
     "output_type": "stream",
     "text": [
      "Epoch 1/20\n",
      "3/3 [==============================] - 0s 57ms/step - loss: nan - acc: 0.0152 - val_loss: nan - val_acc: 0.0455\n",
      "Epoch 2/20\n",
      "3/3 [==============================] - 0s 6ms/step - loss: nan - acc: 0.0152 - val_loss: nan - val_acc: 0.0455\n",
      "Epoch 3/20\n",
      "3/3 [==============================] - 0s 5ms/step - loss: nan - acc: 0.0152 - val_loss: nan - val_acc: 0.0455\n",
      "Epoch 00003: early stopping\n"
     ]
    }
   ],
   "source": [
    "history = model.fit(X_train, y_train, validation_data=(X_test, y_test), epochs=20, callbacks=[early_stop])"
   ]
  },
  {
   "cell_type": "code",
   "execution_count": null,
   "id": "258a8b7f-0b75-4ea5-92e8-6a458e8e8655",
   "metadata": {},
   "outputs": [],
   "source": []
  },
  {
   "cell_type": "code",
   "execution_count": null,
   "id": "d45e64d6-d274-422d-a4d7-05446d3cc62d",
   "metadata": {},
   "outputs": [],
   "source": []
  },
  {
   "cell_type": "code",
   "execution_count": null,
   "id": "fdab4eb5-131e-4fe3-ae8e-a2190f7b6654",
   "metadata": {},
   "outputs": [],
   "source": []
  }
 ],
 "metadata": {
  "kernelspec": {
   "display_name": "Python [conda env:dsi] *",
   "language": "python",
   "name": "conda-env-dsi-py"
  },
  "language_info": {
   "codemirror_mode": {
    "name": "ipython",
    "version": 3
   },
   "file_extension": ".py",
   "mimetype": "text/x-python",
   "name": "python",
   "nbconvert_exporter": "python",
   "pygments_lexer": "ipython3",
   "version": "3.8.8"
  }
 },
 "nbformat": 4,
 "nbformat_minor": 5
}
